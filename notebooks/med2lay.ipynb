{
 "cells": [
  {
   "cell_type": "code",
   "execution_count": 1,
   "id": "7a9fc737-ed10-4e10-99b1-22a9146a4e73",
   "metadata": {},
   "outputs": [],
   "source": [
    "import requests\n",
    "import xml.etree.ElementTree as ET\n",
    "import json"
   ]
  },
  {
   "cell_type": "code",
   "execution_count": 2,
   "id": "b4c3e5b8-5c79-4fe2-9863-01635f3c2fc1",
   "metadata": {},
   "outputs": [],
   "source": [
    "\n",
    "def get_medlineplus_definition(term):\n",
    "    \"\"\"Fetch a layman-friendly definition from MedlinePlus.\"\"\"\n",
    "    url = f\"https://wsearch.nlm.nih.gov/ws/query?db=healthTopics&term={term}\"\n",
    "    response = requests.get(url)\n",
    "    response.raise_for_status()\n",
    "    \n",
    "    root = ET.fromstring(response.text)\n",
    "    # Each \"document\" contains possible matches\n",
    "    for doc in root.findall(\".//document\"):\n",
    "        title = doc.findtext(\"content[@name='title']\")\n",
    "        summary = doc.findtext(\"content[@name='FullSummary']\")\n",
    "        if summary:\n",
    "            return summary.strip()\n",
    "    return None"
   ]
  },
  {
   "cell_type": "code",
   "execution_count": 3,
   "id": "2bbf50ea-aeba-4a51-b5d1-569f8e81004d",
   "metadata": {},
   "outputs": [],
   "source": [
    "# Example: build dictionary for a list of medical terms\n",
    "medical_terms = [\n",
    "    \"cardiomegaly\",\n",
    "    \"pleural effusion\",\n",
    "    \"pulmonary edema\",\n",
    "    \"pneumothorax\",\n",
    "    \"atelectasis\",\n",
    "    \"opacity\",\n",
    "    \"infiltrate\",\n",
    "    \"emphysema\",\n",
    "    \"fibrosis\"\n",
    "]\n",
    "\n",
    "med2lay = {}\n",
    "for term in medical_terms:\n",
    "    definition = get_medlineplus_definition(term)\n",
    "    if definition:\n",
    "        med2lay[term] = definition"
   ]
  },
  {
   "cell_type": "code",
   "execution_count": 4,
   "id": "bcb8426c-a016-4e7e-836e-2f5150986995",
   "metadata": {},
   "outputs": [
    {
     "name": "stdout",
     "output_type": "stream",
     "text": [
      "Here are the med to layman terms:  {'pleural effusion': '<p>Your <span class=\"qt1\">pleura</span> is a large, thin sheet of tissue that wraps around the outside of your lungs and lines the inside of your chest cavity. Between the layers of the <span class=\"qt1\">pleura</span> is a very thin space. Normally it\\'s filled with a small amount of fluid. The fluid helps the two layers of the <span class=\"qt1\">pleura</span> glide smoothly past each other as your lungs breathe air in and out.</p><p>Disorders of the <span class=\"qt1\">pleura</span> include:</p><ul><li>Pleurisy - inflammation of the <span class=\"qt1\">pleura</span> that causes sharp pain with breathing</li><li><span class=\"qt0\">Pleural</span> <span class=\"qt2\">effusion</span> - excess fluid in the <span class=\"qt0\">pleural</span> space</li><li>Pneumothorax - buildup of air or gas in the <span class=\"qt0\">pleural</span> space</li><li>Hemothorax - buildup of blood in the <span class=\"qt0\">pleural</span> space</li></ul><p>Many different conditions can cause <span class=\"qt0\">pleural</span> problems. Viral infection is the most common cause of pleurisy. The most common cause of <span class=\"qt0\">pleural</span> <span class=\"qt2\">effusion</span> is congestive heart failure. Lung diseases, like COPD, tuberculosis, and acute lung injury, cause pneumothorax. Injury to the chest is the most common cause of hemothorax. Treatment focuses on removing fluid, air, or blood from the <span class=\"qt0\">pleural</span> space, relieving symptoms, and treating the underlying condition.</p><p>NIH: National Heart, Lung, and Blood Institute</p>', 'pulmonary edema': '<p><span class=\"qt1\">Edema</span> means swelling caused by fluid in your body\\'s tissues. It usually occurs in the feet, ankles and legs, but it can involve your entire body.</p><p>Causes of <span class=\"qt1\">edema</span> include:</p><ul><li>Eating too much salt</li><li>Sunburn</li><li>Heart failure</li><li>Kidney disease</li><li>Liver problems from cirrhosis</li><li>Pregnancy</li><li>Problems with  lymph nodes, especially after mastectomy</li><li>Some medicines</li><li>Standing or walking a lot when the weather is warm</li></ul><p>To keep swelling down, your health care provider may recommend keeping your legs raised when sitting, wearing support stockings, limiting how much salt you eat, or taking a medicine called a diuretic - also called a water pill. </p>', 'pneumothorax': '<p>A collapsed lung happens when air enters the pleural space, the area between the lung and the chest wall. If it is a total collapse, it is called <span class=\"qt0\">pneumothorax</span>. If only part of the lung is affected, it is called atelectasis.</p><p>Causes of a collapsed lung include:</p><ul><li>Lung diseases such as pneumonia or lung cancer</li><li>Being on a breathing machine</li><li>Surgery on the chest or abdomen</li><li>A blocked airway</li></ul><p>If only a small area of the lung is affected, you may not have symptoms. If a large area is affected, you may feel short of breath and have a rapid heart rate.</p><p>A chest x-ray can tell if you have it. Treatment depends on the underlying cause.</p><p>NIH: National Heart, Lung, and Blood Institute</p>', 'atelectasis': '<p>A collapsed lung happens when air enters the pleural space, the area between the lung and the chest wall. If it is a total collapse, it is called pneumothorax. If only part of the lung is affected, it is called <span class=\"qt0\">atelectasis</span>.</p><p>Causes of a collapsed lung include:</p><ul><li>Lung diseases such as pneumonia or lung cancer</li><li>Being on a breathing machine</li><li>Surgery on the chest or abdomen</li><li>A blocked airway</li></ul><p>If only a small area of the lung is affected, you may not have symptoms. If a large area is affected, you may feel short of breath and have a rapid heart rate.</p><p>A chest x-ray can tell if you have it. Treatment depends on the underlying cause.</p><p>NIH: National Heart, Lung, and Blood Institute</p>', 'emphysema': 'What is <span class=\"qt0\">emphysema</span>?<p><span class=\"qt0\">Emphysema</span> is a type of COPD (chronic obstructive pulmonary disease). COPD is a group of lung diseases that make it hard to breathe and get worse over time. The other main type of COPD is chronic bronchitis. Most people with COPD have both <span class=\"qt0\">emphysema</span> and chronic bronchitis, but how severe each type is can be different from person to person.</p><p><span class=\"qt0\">Emphysema</span> affects the air sacs in your lungs. Normally, these sacs are elastic or stretchy. When you breathe in, each air sac fills up with air, like a small balloon. When you breathe out, the air sacs deflate, and the air goes out.</p><p>In <span class=\"qt0\">emphysema</span>, the walls between many of the air sacs in the lungs are damaged. This causes the air sacs to lose their shape and become floppy. The damage also can destroy the walls of the air sacs, leading to fewer and larger air sacs instead of many tiny ones. This makes it harder for your lungs to move oxygen in and carbon dioxide out of your body.</p>What causes <span class=\"qt0\">emphysema</span>?<p>The cause of <span class=\"qt0\">emphysema</span> is usually long-term exposure to irritants that damage your lungs and the airways. In the United States, cigarette smoke is the main cause. Pipe, cigar, and other types of tobacco smoke can also cause <span class=\"qt0\">emphysema</span>, especially if you inhale them.</p><p>Exposure to other inhaled irritants can contribute to <span class=\"qt0\">emphysema</span>. These include secondhand smoke, air pollution, and chemical fumes or dusts from the environment or workplace.</p><p>Rarely, a genetic condition called alpha-1 antitrypsin deficiency can play a role in causing <span class=\"qt0\">emphysema</span>.</p>Who is at risk for <span class=\"qt0\">emphysema</span>?<p>The risk factors for <span class=\"qt0\">emphysema</span> include:</p><ul><li>Smoking. This the main risk factor. Up to 75% of people who have <span class=\"qt0\">emphysema</span> smoke or used to smoke.</li><li>Long-term exposure to other lung irritants, such as secondhand smoke, air pollution, and chemical fumes and dusts from the environment or workplace.</li><li>Age. Most people who have <span class=\"qt0\">emphysema</span> are at least 40 years old when their symptoms begin.</li><li>Genetics. This includes alpha-1 antitrypsin deficiency, which is a genetic condition. Also, smokers who get <span class=\"qt0\">emphysema</span> are more likely to get it if they have a family history of COPD.</li></ul>What are the symptoms of <span class=\"qt0\">emphysema</span>?<p>At first, you may have no symptoms or only mild symptoms. As the disease gets worse, your symptoms usually become more severe. They can include:</p><ul><li>Frequent coughing or wheezing</li><li>A cough that produces a lot mucus</li><li>Shortness of breath, especially with physical activity</li><li>A whistling or squeaky sound when you breathe</li><li>Tightness in your chest</li></ul><p>Some people with <span class=\"qt0\">emphysema</span> get frequent respiratory infections such as colds and the flu. In severe cases, <span class=\"qt0\">emphysema</span> can cause weight loss, weakness in your lower muscles, and swelling in your ankles, feet, or legs.</p>How is <span class=\"qt0\">emphysema</span> diagnosed?<p>Your health care provider may use many tools to make a diagnosis:</p><ul><li>A medical history, which includes asking about your symptoms</li><li>A family history</li><li>Other tests, such as lung function tests, a chest x-ray or CT scan, and blood tests</li></ul>What are the treatments for <span class=\"qt0\">emphysema</span>?<p>There is no cure for <span class=\"qt0\">emphysema</span>. However, treatments can help with symptoms, slow the progress of the disease, and improve your ability to stay active. There are also treatments to prevent or treat complications of the disease. Treatments include:</p><ul><li>Lifestyle changes, such as\\n\\t<ul><li>Quitting smoking if you are a smoker. This is the most important step you can take to treat <span class=\"qt0\">emphysema</span>.</li><li>Avoiding secondhand smoke and places where you might breathe in other lung irritants</li><li>Ask your health care provider for an eating plan that will meet your nutritional needs. Also ask about how much physical activity you can do. Physical activity can strengthen the muscles that help you breathe and improve your overall wellness.</li></ul></li><li>Medicines, such as\\n\\t<ul><li>Bronchodilators, which relax the muscles around your airways. This helps open your airways and makes breathing easier. Most bronchodilators are taken through an inhaler. In more severe cases, the inhaler may also contain steroids to reduce inflammation.</li><li>Vaccines for the flu and pneumococcal pneumonia, since people with <span class=\"qt0\">emphysema</span> are at higher risk for serious problems from these diseases</li><li>Antibiotics if you get a bacterial or viral lung infection</li></ul></li><li>Oxygen therapy, if you have severe <span class=\"qt0\">emphysema</span> and low levels of oxygen in your blood. Oxygen therapy can help you breathe better. You may need extra oxygen all the time or only at certain times.</li><li>Pulmonary rehabilitation, which is a program that helps improve the well-being of people who have chronic breathing problems. It may include\\n\\t<ul><li>An exercise program</li><li>Disease management training</li><li>Nutritional counseling</li><li>Psychological counseling</li></ul></li><li>Surgery, usually as a last resort for people who have severe symptoms that have not gotten better with medicines. There are surgeries to \\n\\t<ul><li>Remove damaged lung tissue</li><li>Remove large air spaces (bullae) that can form when air sacs are destroyed. The bullae can interfere with breathing.</li><li>Do a lung transplant. This is might be an option if you have very severe <span class=\"qt0\">emphysema</span>.</li></ul></li></ul><p>If you have <span class=\"qt0\">emphysema</span>, it\\'s important to know when and where to get help for your symptoms. You should get emergency care if you have severe symptoms, such as trouble catching your breath or talking. Call your health care provider if your symptoms are getting worse or if you have signs of an infection, such as a fever.</p>Can <span class=\"qt0\">emphysema</span> be prevented?<p>Since smoking causes most cases of <span class=\"qt0\">emphysema</span>, the best way to prevent it is to not smoke. It\\'s also important to try to avoid lung irritants such as secondhand smoke, air pollution, chemical fumes, and dusts.</p><p>NIH: National Heart, Lung, and Blood Institute</p>', 'fibrosis': '<p>Pulmonary <span class=\"qt0\">fibrosis</span> is a condition in which the tissue deep in your lungs becomes scarred over time.  This tissue gets thick and stiff.  That makes it hard for you to catch your breath, and your blood may not get enough oxygen.</p><p>Causes of pulmonary <span class=\"qt0\">fibrosis</span> include environmental pollutants, some medicines, some connective tissue diseases, and interstitial lung disease. Interstitial lung disease is the name for a large group of diseases that inflame or scar the lungs. In most cases, the cause cannot be found.  This is called idiopathic pulmonary <span class=\"qt0\">fibrosis</span>.</p><p>Symptoms include:</p><ul><li>Shortness of breath</li><li>A dry, hacking cough that doesn\\'t get better</li><li>Fatigue</li><li>Weight loss for no known reason</li><li>Aching muscles and joints</li><li>Clubbing, which is the widening and rounding of the tips of the fingers or toes</li></ul><p>Your doctor may use your medical history, imaging tests, a biopsy, and lung function tests to diagnose pulmonary <span class=\"qt0\">fibrosis</span>. There is no cure. Treatments can help with symptoms and improve your quality of life. They include medicines, oxygen therapy, pulmonary rehabilitation, or a lung transplant.</p><p>NIH: National Heart, Lung, and Blood Institute</p>'}\n"
     ]
    }
   ],
   "source": [
    "print(\"Here are the med to layman terms: \", med2lay)"
   ]
  },
  {
   "cell_type": "code",
   "execution_count": 5,
   "id": "235d1911-1aaf-41a7-bb3c-d502fa1fec29",
   "metadata": {},
   "outputs": [
    {
     "name": "stdout",
     "output_type": "stream",
     "text": [
      "Saved med2lay.json with 6 terms\n"
     ]
    }
   ],
   "source": [
    "# Save as JSON\n",
    "with open(\"med2lay.json\", \"w\") as f:\n",
    "    json.dump(med2lay, f, indent=2)\n",
    "\n",
    "print(\"Saved med2lay.json with\", len(med2lay), \"terms\")"
   ]
  },
  {
   "cell_type": "code",
   "execution_count": null,
   "id": "904a0d3c-1835-4f64-92d5-b64139e0a69b",
   "metadata": {},
   "outputs": [],
   "source": []
  }
 ],
 "metadata": {
  "kernelspec": {
   "display_name": "Python 3 (ipykernel)",
   "language": "python",
   "name": "python3"
  },
  "language_info": {
   "codemirror_mode": {
    "name": "ipython",
    "version": 3
   },
   "file_extension": ".py",
   "mimetype": "text/x-python",
   "name": "python",
   "nbconvert_exporter": "python",
   "pygments_lexer": "ipython3",
   "version": "3.12.1"
  }
 },
 "nbformat": 4,
 "nbformat_minor": 5
}
