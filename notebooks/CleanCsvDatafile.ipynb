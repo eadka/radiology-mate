{
 "cells": [
  {
   "cell_type": "code",
   "execution_count": null,
   "id": "12f606a0-402d-4405-8b9d-bd89b0bed35e",
   "metadata": {},
   "outputs": [],
   "source": [
    "import pandas as pd\n",
    "import os\n",
    "import minsearch\n",
    "import numpy\n",
    "import json"
   ]
  },
  {
   "cell_type": "code",
   "execution_count": null,
   "id": "b76b335f-f586-4562-ac28-1fed52d1ace6",
   "metadata": {},
   "outputs": [],
   "source": [
    "df = pd.read_csv('../data/radiologydata.csv')"
   ]
  },
  {
   "cell_type": "code",
   "execution_count": null,
   "id": "a1c3c3c1-4792-4307-b4b0-4bdefcce51bb",
   "metadata": {},
   "outputs": [],
   "source": [
    "def sanitize_for_minsearch(documents):\n",
    "    clean_docs = []\n",
    "    for doc in documents:\n",
    "        clean_doc = {}\n",
    "        for k, v in doc.items():\n",
    "            if v is None or (isinstance(v, float) and pd.isna(v)):\n",
    "                clean_doc[k] = \"\"   # replace NaN/None with empty string\n",
    "            elif isinstance(v, list):\n",
    "                clean_doc[k] = \" \".join(str(x) for x in v)  # flatten lists\n",
    "            else:\n",
    "                clean_doc[k] = str(v)  # ensure string\n",
    "        clean_docs.append(clean_doc)\n",
    "    return clean_docs"
   ]
  },
  {
   "cell_type": "code",
   "execution_count": null,
   "id": "cc1ddf87-ecb5-4564-a98e-1effebaf15c5",
   "metadata": {},
   "outputs": [],
   "source": [
    "documents = df.to_dict(orient='records')"
   ]
  },
  {
   "cell_type": "code",
   "execution_count": null,
   "id": "88557e13-94ca-4b44-9b1d-c7eb99768cd5",
   "metadata": {},
   "outputs": [],
   "source": [
    "# 2. Specify the filename\n",
    "filename = \"../data/radiologydata_cleaned.json\"\n",
    "\n",
    "# 3. Save the data to the JSON file\n",
    "try:\n",
    "    with open(filename, \"w\") as file:\n",
    "        json.dump(documents, file, indent=4) # Using indent for pretty-printing\n",
    "    print(f\"Data successfully saved to {filename}\")\n",
    "except IOError as e:\n",
    "    print(f\"Error saving data to file: {e}\")"
   ]
  }
 ],
 "metadata": {
  "kernelspec": {
   "display_name": "Python 3 (ipykernel)",
   "language": "python",
   "name": "python3"
  },
  "language_info": {
   "codemirror_mode": {
    "name": "ipython",
    "version": 3
   },
   "file_extension": ".py",
   "mimetype": "text/x-python",
   "name": "python",
   "nbconvert_exporter": "python",
   "pygments_lexer": "ipython3",
   "version": "3.12.1"
  }
 },
 "nbformat": 4,
 "nbformat_minor": 5
}
